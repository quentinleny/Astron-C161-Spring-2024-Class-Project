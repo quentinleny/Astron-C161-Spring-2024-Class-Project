{
 "cells": [
  {
   "cell_type": "code",
   "execution_count": 143,
   "metadata": {},
   "outputs": [],
   "source": [
    "import numpy as np\n",
    "import pandas as pd\n",
    "from scipy.integrate import quad\n",
    "from scipy.optimize import minimize\n",
    "from scipy.stats import norm\n",
    "from scipy.misc import derivative\n",
    "\n",
    "\n",
    "# Define constants\n",
    "H_0 = 70  # km/s/Mpc\n",
    "c = 2.99792458e5  # km/s\n",
    "M = -19.3146267582  # M\n",
    "M_n = M - 5*np.log10(H_0) + 25 #Script_M\n",
    "Omega_R = 1e-8"
   ]
  },
  {
   "cell_type": "code",
   "execution_count": 152,
   "metadata": {},
   "outputs": [],
   "source": [
    "# supernova data\n",
    "data = pd.read_csv('SCPUnion2.1_mu_vs_z.txt', sep='\\t', comment='#', names=['z', 'mu', 'mu_err'])\n",
    "# Load the covariance matrix\n",
    "data_cov = pd.read_csv('SCPUnion2.1_covmat_nosys.txt', sep='\\s+', header=None)"
   ]
  },
  {
   "cell_type": "code",
   "execution_count": 153,
   "metadata": {},
   "outputs": [],
   "source": [
    "#Calculation of r(z)\n",
    "\n",
    "def integrand(z, Omega_M, Omega_DE, w):\n",
    "    return 1 / np.sqrt(Omega_M * (1 + z)**3 + Omega_DE * (1 + z)**(3 * (1 + w)) + Omega_R * (1 + z)**(4))\n",
    "\n",
    "def r(z, Omega_M, Omega_DE, w):\n",
    "    return c / H_0 * quad(integrand, 0, z, args=(Omega_M, Omega_DE, w))[0]"
   ]
  },
  {
   "cell_type": "code",
   "execution_count": 154,
   "metadata": {},
   "outputs": [],
   "source": [
    "#calculation of d_l\n",
    "\n",
    "def d_L(z, Omega_M, Omega_DE, w):\n",
    "    return (1 + z) * r(z, Omega_M, Omega_DE, w)"
   ]
  },
  {
   "cell_type": "code",
   "execution_count": 155,
   "metadata": {},
   "outputs": [],
   "source": [
    "#calculation of m(z, {pj})\n",
    "\n",
    "def m_th(z, Omega_M, Omega_DE, w):\n",
    "    return 5 * np.log10(H_0*d_L(z, Omega_M, Omega_DE, w)) + M_n"
   ]
  },
  {
   "cell_type": "code",
   "execution_count": 157,
   "metadata": {},
   "outputs": [
    {
     "name": "stdout",
     "output_type": "stream",
     "text": [
      "chi_squared returned np.inf for params [ 0.3  0.7 -1. ]\n",
      "chi_squared returned np.inf for params [ 0.30000001  0.7        -1.        ]\n",
      "chi_squared returned np.inf for params [ 0.3         0.70000001 -1.        ]\n"
     ]
    },
    {
     "name": "stderr",
     "output_type": "stream",
     "text": [
      "/opt/anaconda3/lib/python3.11/site-packages/scipy/optimize/_numdiff.py:576: RuntimeWarning: invalid value encountered in subtract\n",
      "  df = fun(x) - f0\n"
     ]
    },
    {
     "name": "stdout",
     "output_type": "stream",
     "text": [
      "chi_squared returned np.inf for params [ 0.3         0.7        -0.99999999]\n"
     ]
    }
   ],
   "source": [
    "# Define your chi-squared function\n",
    "def chi_squared(params):\n",
    "    Omega_M, Omega_DE, w = params\n",
    "    m_theoretical = data['z'].apply(lambda z: m_th(z, Omega_M, Omega_DE, w))  # renamed m_th to m_theoretical\n",
    "    chi_sq = np.sum(((data['mu'] - m_theoretical) / data['mu_err'])**2)  # use m_theoretical here\n",
    "    if np.isinf(chi_sq):\n",
    "        print(f\"chi_squared returned np.inf for params {params}\")\n",
    "    return chi_sq\n",
    "\n",
    "# Initial guess for Omega_M, Omega_DE, w\n",
    "initial_guess = [0.3, 0.7, -1]\n",
    "\n",
    "# Use scipy's minimize function to find the best-fit parameters\n",
    "result = minimize(chi_squared, initial_guess)\n",
    "\n",
    "# Now you can calculate the theoretical distance modulus with the best-fit parameters\n",
    "data['m_th'] = data['z'].apply(lambda z: m_th(z, result.x[0], result.x[1], result.x[2]))"
   ]
  },
  {
   "cell_type": "code",
   "execution_count": 123,
   "metadata": {},
   "outputs": [
    {
     "name": "stdout",
     "output_type": "stream",
     "text": [
      "Best-fit parameters: Omega_M = 0.3, Omega_DE = 0.7, w = -1.0\n"
     ]
    }
   ],
   "source": [
    "print(f\"Best-fit parameters: Omega_M = {result.x[0]}, Omega_DE = {result.x[1]}, w = {result.x[2]}\")"
   ]
  },
  {
   "cell_type": "code",
   "execution_count": 96,
   "metadata": {},
   "outputs": [
    {
     "name": "stdout",
     "output_type": "stream",
     "text": [
      "               z         mu    mu_err       m_th\n",
      "1993ah  0.028488  35.335551  0.226144  35.963629\n",
      "1993ag  0.050043  36.675442  0.167114  37.191382\n",
      "1993o   0.052926  36.816881  0.155866  37.313568\n",
      "1993b   0.070086  37.440321  0.158669  37.926593\n",
      "1992bs  0.062668  37.480331  0.156270  37.682299\n"
     ]
    }
   ],
   "source": [
    "print(data.head())"
   ]
  },
  {
   "cell_type": "code",
   "execution_count": null,
   "metadata": {},
   "outputs": [],
   "source": []
  },
  {
   "cell_type": "code",
   "execution_count": null,
   "metadata": {},
   "outputs": [],
   "source": []
  }
 ],
 "metadata": {
  "kernelspec": {
   "display_name": "Python 3 (ipykernel)",
   "language": "python",
   "name": "python3"
  },
  "language_info": {
   "codemirror_mode": {
    "name": "ipython",
    "version": 3
   },
   "file_extension": ".py",
   "mimetype": "text/x-python",
   "name": "python",
   "nbconvert_exporter": "python",
   "pygments_lexer": "ipython3",
   "version": "3.11.7"
  }
 },
 "nbformat": 4,
 "nbformat_minor": 4
}
