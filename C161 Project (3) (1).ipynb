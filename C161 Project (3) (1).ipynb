{
 "cells": [
  {
   "cell_type": "code",
   "execution_count": 77,
   "id": "d1cd388e-25a6-4aa3-8f33-72623c1b209f",
   "metadata": {},
   "outputs": [],
   "source": [
    "import numpy as np\n",
    "import pandas as pd\n",
    "import matplotlib.pyplot as plt\n",
    "from scipy.integrate import quad\n",
    "from scipy.optimize import minimize\n",
    "from scipy.stats import norm\n",
    "\n",
    "\n",
    "# Define constants\n",
    "H_0 = 70  # km/s/Mpc\n",
    "c = 2.99792458e5  # km/s\n",
    "M = -19.3146267582  # M\n",
    "M_n = 25 - 5*np.log10(H_0) #Script_M\n",
    "Omega_R = 1e-8\n",
    "\n",
    "#Initial guesses for cosmological parameters\n",
    "Omega_M = 0.27\n",
    "Omega_DE = 0.73\n",
    "w = -1"
   ]
  },
  {
   "cell_type": "code",
   "execution_count": 78,
   "id": "cc75066d-420d-4237-825f-20221d1be432",
   "metadata": {},
   "outputs": [
    {
     "data": {
      "text/html": [
       "<div>\n",
       "<style scoped>\n",
       "    .dataframe tbody tr th:only-of-type {\n",
       "        vertical-align: middle;\n",
       "    }\n",
       "\n",
       "    .dataframe tbody tr th {\n",
       "        vertical-align: top;\n",
       "    }\n",
       "\n",
       "    .dataframe thead th {\n",
       "        text-align: right;\n",
       "    }\n",
       "</style>\n",
       "<table border=\"1\" class=\"dataframe\">\n",
       "  <thead>\n",
       "    <tr style=\"text-align: right;\">\n",
       "      <th></th>\n",
       "      <th>SNe</th>\n",
       "      <th>z</th>\n",
       "      <th>m</th>\n",
       "      <th>m_err</th>\n",
       "    </tr>\n",
       "  </thead>\n",
       "  <tbody>\n",
       "    <tr>\n",
       "      <th>0</th>\n",
       "      <td>1993ah</td>\n",
       "      <td>0.028488</td>\n",
       "      <td>35.346583</td>\n",
       "      <td>0.223906</td>\n",
       "    </tr>\n",
       "    <tr>\n",
       "      <th>1</th>\n",
       "      <td>1993ag</td>\n",
       "      <td>0.050043</td>\n",
       "      <td>36.682368</td>\n",
       "      <td>0.166829</td>\n",
       "    </tr>\n",
       "    <tr>\n",
       "      <th>2</th>\n",
       "      <td>1993o</td>\n",
       "      <td>0.052926</td>\n",
       "      <td>36.817691</td>\n",
       "      <td>0.155756</td>\n",
       "    </tr>\n",
       "    <tr>\n",
       "      <th>3</th>\n",
       "      <td>1993b</td>\n",
       "      <td>0.070086</td>\n",
       "      <td>37.446737</td>\n",
       "      <td>0.158467</td>\n",
       "    </tr>\n",
       "    <tr>\n",
       "      <th>4</th>\n",
       "      <td>1992bs</td>\n",
       "      <td>0.062668</td>\n",
       "      <td>37.483409</td>\n",
       "      <td>0.156099</td>\n",
       "    </tr>\n",
       "    <tr>\n",
       "      <th>...</th>\n",
       "      <td>...</td>\n",
       "      <td>...</td>\n",
       "      <td>...</td>\n",
       "      <td>...</td>\n",
       "    </tr>\n",
       "    <tr>\n",
       "      <th>575</th>\n",
       "      <td>D-000</td>\n",
       "      <td>1.017000</td>\n",
       "      <td>44.293971</td>\n",
       "      <td>0.171046</td>\n",
       "    </tr>\n",
       "    <tr>\n",
       "      <th>576</th>\n",
       "      <td>D-006</td>\n",
       "      <td>1.315000</td>\n",
       "      <td>44.971358</td>\n",
       "      <td>0.187509</td>\n",
       "    </tr>\n",
       "    <tr>\n",
       "      <th>577</th>\n",
       "      <td>P-009</td>\n",
       "      <td>0.821000</td>\n",
       "      <td>43.640939</td>\n",
       "      <td>0.194014</td>\n",
       "    </tr>\n",
       "    <tr>\n",
       "      <th>578</th>\n",
       "      <td>R-012</td>\n",
       "      <td>1.215000</td>\n",
       "      <td>45.246521</td>\n",
       "      <td>0.560317</td>\n",
       "    </tr>\n",
       "    <tr>\n",
       "      <th>579</th>\n",
       "      <td>Z-005</td>\n",
       "      <td>0.623000</td>\n",
       "      <td>42.514524</td>\n",
       "      <td>0.241428</td>\n",
       "    </tr>\n",
       "  </tbody>\n",
       "</table>\n",
       "<p>580 rows × 4 columns</p>\n",
       "</div>"
      ],
      "text/plain": [
       "        SNe         z          m     m_err\n",
       "0    1993ah  0.028488  35.346583  0.223906\n",
       "1    1993ag  0.050043  36.682368  0.166829\n",
       "2     1993o  0.052926  36.817691  0.155756\n",
       "3     1993b  0.070086  37.446737  0.158467\n",
       "4    1992bs  0.062668  37.483409  0.156099\n",
       "..      ...       ...        ...       ...\n",
       "575   D-000  1.017000  44.293971  0.171046\n",
       "576   D-006  1.315000  44.971358  0.187509\n",
       "577   P-009  0.821000  43.640939  0.194014\n",
       "578   R-012  1.215000  45.246521  0.560317\n",
       "579   Z-005  0.623000  42.514524  0.241428\n",
       "\n",
       "[580 rows x 4 columns]"
      ]
     },
     "execution_count": 78,
     "metadata": {},
     "output_type": "execute_result"
    }
   ],
   "source": [
    "# supernova data\n",
    "\n",
    "data = pd.read_csv('SCPUnion2.1_mu_vs_z.txt', sep='\\t', comment='#', usecols=[0, 1, 2, 3], names=['SNe', 'z', 'm', 'm_err'])\n",
    "\n",
    "\n",
    "# Load the covariance matrix\n",
    "\n",
    "data_cov = pd.read_csv('SCPUnion2.1_covmat_nosys.txt', sep='\\s+', header=None)\n",
    "\n",
    "data"
   ]
  },
  {
   "cell_type": "code",
   "execution_count": 79,
   "id": "ed5a56c4-a05c-4f0f-aacd-55aec2a20897",
   "metadata": {},
   "outputs": [],
   "source": [
    "#Calculation of r(z)\n",
    "\n",
    "def integrand(z, Omega_M, Omega_DE, w):\n",
    "    return 1 / np.sqrt(Omega_M * (1 + z)**3 + Omega_DE * (1 + z)**(3 * (1 + w)) + Omega_R * (1 + z)**(4))\n",
    "\n",
    "def r(z, Omega_M, Omega_DE, w):\n",
    "    return c / H_0 * quad(integrand, 0, z, args=(Omega_M, Omega_DE, w))[0]"
   ]
  },
  {
   "cell_type": "code",
   "execution_count": 80,
   "id": "801ca7eb-76cf-4186-a5b0-54921bf0efc7",
   "metadata": {},
   "outputs": [],
   "source": [
    "#calculation of d_l\n",
    "\n",
    "def d_L(z, Omega_M, Omega_DE, w):\n",
    "    return (1 + z) * r(z, Omega_M, Omega_DE, w)"
   ]
  },
  {
   "cell_type": "code",
   "execution_count": 81,
   "id": "42c8553a-069b-4a12-aa42-b0961b23068b",
   "metadata": {},
   "outputs": [],
   "source": [
    "#calculation of m(z, {pj})\n",
    "\n",
    "def m_th(z, Omega_M, Omega_DE, w):\n",
    "    return 5 * np.log10(H_0*d_L(z, Omega_M, Omega_DE, w)) + M_n"
   ]
  },
  {
   "cell_type": "code",
   "execution_count": 82,
   "id": "69952860-34af-4a99-a0a5-f463bca42bfb",
   "metadata": {},
   "outputs": [
    {
     "data": {
      "text/plain": [
       "0     -0.133681\n",
       "1     -0.056602\n",
       "2     -0.047548\n",
       "3     -0.055550\n",
       "4      0.235743\n",
       "         ...   \n",
       "575    0.108311\n",
       "576    0.088298\n",
       "577    0.034675\n",
       "578    0.578087\n",
       "579   -0.351406\n",
       "Name: m_diff, Length: 580, dtype: float64"
      ]
     },
     "execution_count": 82,
     "metadata": {},
     "output_type": "execute_result"
    }
   ],
   "source": [
    "#calculation of (m - m^th)\n",
    "def m_diff_vector(z, Omega_M, Omega_DE, w):\n",
    "\n",
    "    data['m_th'] = data['z'].apply(lambda z: m_th(z, Omega_M, Omega_DE, w))\n",
    "    data['m_diff'] = data['m'] - data['m_th']\n",
    "    return data['m_diff']\n",
    "\n",
    "m_diff_vector(data['z'], Omega_M, Omega_DE, w)"
   ]
  },
  {
   "cell_type": "code",
   "execution_count": 83,
   "id": "4dc81feb-ed4e-4c52-92ce-2aee6932738b",
   "metadata": {},
   "outputs": [
    {
     "data": {
      "text/plain": [
       "562.5725706154857"
      ]
     },
     "execution_count": 83,
     "metadata": {},
     "output_type": "execute_result"
    }
   ],
   "source": [
    "def chi_squared(cov, Omega_M, Omega_DE, w):\n",
    "# Convert the covariance matrix to a numpy array\n",
    "    cov_matrix = cov\n",
    "\n",
    "    # Invert the covariance matrix\n",
    "    inv_cov_matrix = np.linalg.inv(cov_matrix)\n",
    "\n",
    "    # Calculate the chi-squared value\n",
    "    chi_squared = np.dot(data['m_diff'], np.dot(inv_cov_matrix, m_diff_vector(data['z'], Omega_M, Omega_DE, w)))\n",
    "\n",
    "    return chi_squared\n",
    "\n",
    "chi_squared(data_cov.values, Omega_M, Omega_DE, w)"
   ]
  },
  {
   "cell_type": "code",
   "execution_count": 84,
   "id": "ee697ec4-cb9e-40ca-a1b6-6eab2dd67ce9",
   "metadata": {},
   "outputs": [
    {
     "data": {
      "text/plain": [
       "118.56730964066429"
      ]
     },
     "execution_count": 84,
     "metadata": {},
     "output_type": "execute_result"
    }
   ],
   "source": [
    "def log_likelihood(cov, Omega_M, Omega_DE, w):\n",
    "    # Calculate the log of the determinant and the sign of the determinant for the regularized matrix\n",
    "    sign, log_det = np.linalg.slogdet(cov)\n",
    "\n",
    "    n = cov.shape[0]\n",
    "\n",
    "    log_likelihood = -0.5 * n * np.log(2 * np.pi) - 0.5 * log_det - 0.5 * chi_squared(data_cov.values, Omega_M, Omega_DE, w)\n",
    "\n",
    "    return log_likelihood\n",
    "\n",
    "log_likelihood(data_cov.values, Omega_M, Omega_DE, w)"
   ]
  },
  {
   "cell_type": "code",
   "execution_count": 98,
   "id": "64bf4d63-820a-41e0-87a9-1e871f53f084",
   "metadata": {},
   "outputs": [
    {
     "data": {
      "image/png": "[encoded data removed]",
      "text/plain": [
       "<Figure size 1000x500 with 1 Axes>"
      ]
     },
     "metadata": {},
     "output_type": "display_data"
    }
   ],
   "source": [
    "# Case #1 (Varying Omega_M)\n",
    "\n",
    "# Make array of likelihoods, normalize to have a peak of 1\n",
    "omega_m_range = np.linspace(0.2601, 0.3, 50)\n",
    "\n",
    "likelihoods = np.array([log_likelihood(data_cov.values, omega_m, 1 - omega_m, w) for omega_m in omega_m_range])\n",
    "\n",
    "likelihoods_norm = np.exp(likelihoods - np.max(likelihoods))\n",
    "\n",
    "# Plotting\n",
    "import matplotlib.pyplot as plt\n",
    "\n",
    "plt.figure(figsize=(10, 5))\n",
    "plt.plot(omega_m_range, likelihoods_norm, label='Likelihood')\n",
    "plt.title('Normalized Likelihood vs. $\\\\Omega_M$')\n",
    "plt.xlabel('$\\\\Omega_M$')\n",
    "plt.ylabel('Normalized Likelihood')\n",
    "plt.legend()\n",
    "plt.grid(True)\n",
    "plt.show()\n",
    "\n",
    "# # Define the negative log-likelihood function\n",
    "\n",
    "# L = \n",
    "\n",
    "# # Initial guess for the parameters\n",
    "# initial_guess = [Omega_M, Omega_DE, w]\n",
    "\n",
    "# # Find the parameters that minimize the negative log-likelihood\n",
    "# result = minimize(neg_log_likelihood, initial_guess)\n",
    "\n",
    "# # Print the result\n",
    "# print(\"Estimated parameters: \", result.x)"
   ]
  },
  {
   "cell_type": "code",
   "execution_count": null,
   "id": "7a80676b-0ec4-4d5f-870c-d26d6472f9ed",
   "metadata": {},
   "outputs": [],
   "source": []
  }
 ],
 "metadata": {
  "kernelspec": {
   "display_name": "Python 3 (ipykernel)",
   "language": "python",
   "name": "python3"
  },
  "language_info": {
   "codemirror_mode": {
    "name": "ipython",
    "version": 3
   },
   "file_extension": ".py",
   "mimetype": "text/x-python",
   "name": "python",
   "nbconvert_exporter": "python",
   "pygments_lexer": "ipython3",
   "version": "3.11.7"
  }
 },
 "nbformat": 4,
 "nbformat_minor": 5
}
